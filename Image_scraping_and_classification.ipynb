{
 "cells": [
  {
   "cell_type": "code",
   "execution_count": 5,
   "metadata": {
    "id": "BreosHcBL6PS"
   },
   "outputs": [],
   "source": [
    "import os #To explore different folders.\n",
    "import matplotlib.pyplot as plt\n",
    "import numpy as np\n",
    "from skimage.io import imread #openCV alosn can be used but we shall imread to read the images\n",
    "from skimage.transform import resize #To resize the images for better model buidling"
   ]
  },
  {
   "cell_type": "markdown",
   "metadata": {
    "id": "Q1Dn6L2NS1h2"
   },
   "source": [
    "Images are in matrix form, they need to flatten out for the model building."
   ]
  },
  {
   "cell_type": "code",
   "execution_count": 6,
   "metadata": {
    "colab": {
     "base_uri": "https://localhost:8080/",
     "height": 268
    },
    "id": "NOCzk9sSP0wX",
    "outputId": "f3144f7e-2947-49ae-86ac-0c31efbc6572"
   },
   "outputs": [
    {
     "data": {
      "image/png": "[encoded data removed]",
      "text/plain": [
       "<Figure size 432x288 with 1 Axes>"
      ]
     },
     "metadata": {
      "needs_background": "light"
     },
     "output_type": "display_data"
    }
   ],
   "source": [
    "target = []\n",
    "images = []\n",
    "flat_data = []\n",
    "\n",
    "datadir = '/content/scraped_data' #path of the scraped images folder from the colab. (The scraped pictures were uploaded to colab, from there the data was pulled.)\n",
    "categories = ['jeans', 'sarees', 'trousers']\n",
    "\n",
    "for i in categories:\n",
    "  class_num = categories.index(i) #It will label encode the categories of image folders\n",
    "  path = os.path.join(datadir,i) #path to use all the images\n",
    "  for img in os.listdir(path):\n",
    "    img_array = imread(os.path.join(path,img))\n",
    "    plt.imshow(img_array) #The sample image\n",
    "    break"
   ]
  },
  {
   "cell_type": "markdown",
   "metadata": {},
   "source": [
    "#### Data is being flattened."
   ]
  },
  {
   "cell_type": "code",
   "execution_count": 7,
   "metadata": {
    "id": "DBGAVkISUEbE"
   },
   "outputs": [],
   "source": [
    "for i in categories:\n",
    "  class_num = categories.index(i) #It will label encode the categories of image folders\n",
    "  path = os.path.join(datadir,i) #path to use all the images\n",
    "  for img in os.listdir(path):\n",
    "    img_array = imread(os.path.join(path,img)) #every image will be read.\n",
    "\n",
    "    img_resized = resize(img_array, (150, 150, 3)) #Each image will be resized to common size (It normalizes to 0 and 1)\n",
    "    \n",
    "    flat_data.append(img_resized.flatten()) #Images will be flattened for image classification post convolution\n",
    "    \n",
    "    images.append(img_resized)\n",
    "    target.append(class_num)\n",
    "\n",
    "flat_data = np.array(flat_data)\n",
    "target = np.array(target)\n",
    "images = np.array(images)"
   ]
  },
  {
   "cell_type": "code",
   "execution_count": 8,
   "metadata": {
    "colab": {
     "base_uri": "https://localhost:8080/"
    },
    "id": "1jw1PUQ1WyNT",
    "outputId": "c4a38d81-3ee1-4d41-ac3d-606196586f7f"
   },
   "outputs": [
    {
     "data": {
      "text/plain": [
       "array([0.98030065, 0.93912418, 0.90814379, ..., 0.97621351, 0.98988235,\n",
       "       0.98614815])"
      ]
     },
     "execution_count": 8,
     "metadata": {},
     "output_type": "execute_result"
    }
   ],
   "source": [
    "flat_data[0] #pixel points of 1st image"
   ]
  },
  {
   "cell_type": "code",
   "execution_count": 9,
   "metadata": {
    "colab": {
     "base_uri": "https://localhost:8080/"
    },
    "id": "Ks6c_1qtZmSl",
    "outputId": "ca95c8af-cffb-4ab0-e59c-c249db182478"
   },
   "outputs": [
    {
     "data": {
      "text/plain": [
       "array([0, 0, 0, 0, 0, 0, 0, 0, 0, 0, 0, 0, 0, 0, 0, 0, 0, 0, 0, 0, 0, 0,\n",
       "       0, 0, 0, 0, 0, 0, 0, 0, 0, 0, 0, 0, 0, 0, 0, 0, 0, 0, 0, 0, 0, 0,\n",
       "       0, 0, 0, 0, 0, 0, 0, 0, 0, 0, 0, 0, 0, 0, 0, 0, 0, 0, 0, 0, 0, 0,\n",
       "       0, 0, 0, 0, 0, 0, 0, 0, 0, 0, 0, 0, 0, 0, 0, 0, 0, 0, 0, 0, 0, 0,\n",
       "       0, 0, 0, 0, 0, 0, 0, 0, 0, 0, 0, 0, 0, 0, 0, 0, 0, 0, 0, 0, 0, 0,\n",
       "       0, 0, 0, 0, 0, 0, 0, 0, 0, 0, 0, 0, 0, 0, 0, 0, 0, 0, 0, 0, 0, 0,\n",
       "       0, 0, 0, 0, 0, 0, 0, 0, 0, 0, 0, 0, 0, 0, 0, 0, 0, 0, 0, 0, 0, 0,\n",
       "       0, 0, 0, 0, 0, 0, 0, 0, 0, 0, 0, 0, 0, 0, 0, 0, 0, 0, 0, 0, 0, 0,\n",
       "       0, 0, 0, 0, 0, 0, 0, 0, 0, 0, 0, 0, 0, 0, 0, 0, 0, 0, 0, 0, 0, 0,\n",
       "       0, 0, 0, 0, 0, 0, 0, 0, 0, 0, 0, 0, 0, 0, 0, 0, 0, 0, 0, 0, 0, 0,\n",
       "       0, 0, 0, 0, 0, 0, 0, 0, 0, 0, 0, 0, 0, 0, 0, 0, 0, 0, 0, 0, 0, 0,\n",
       "       0, 0, 0, 0, 1, 1, 1, 1, 1, 1, 1, 1, 1, 1, 1, 1, 1, 1, 1, 1, 1, 1,\n",
       "       1, 1, 1, 1, 1, 1, 1, 1, 1, 1, 1, 1, 1, 1, 1, 1, 1, 1, 1, 1, 1, 1,\n",
       "       1, 1, 1, 1, 1, 1, 1, 1, 1, 1, 1, 1, 1, 1, 1, 1, 1, 1, 1, 1, 1, 1,\n",
       "       1, 1, 1, 1, 1, 1, 1, 1, 1, 1, 1, 1, 1, 1, 1, 1, 1, 1, 1, 1, 1, 1,\n",
       "       1, 1, 1, 1, 1, 1, 1, 1, 1, 1, 1, 1, 1, 1, 1, 1, 1, 1, 1, 1, 1, 1,\n",
       "       1, 1, 1, 1, 1, 1, 1, 1, 1, 1, 1, 1, 1, 1, 1, 1, 1, 1, 1, 1, 1, 1,\n",
       "       1, 1, 1, 1, 1, 1, 1, 1, 1, 1, 1, 1, 1, 1, 1, 1, 1, 1, 1, 1, 1, 1,\n",
       "       1, 1, 1, 1, 1, 1, 1, 1, 1, 1, 1, 1, 1, 1, 1, 1, 1, 1, 1, 1, 1, 1,\n",
       "       1, 1, 1, 1, 1, 1, 1, 1, 1, 1, 1, 1, 1, 1, 1, 1, 1, 1, 1, 1, 1, 1,\n",
       "       1, 1, 1, 1, 1, 1, 1, 1, 1, 1, 1, 1, 1, 1, 1, 1, 1, 1, 1, 1, 1, 1,\n",
       "       1, 1, 1, 1, 1, 1, 1, 1, 1, 1, 1, 1, 1, 1, 1, 1, 1, 1, 1, 1, 1, 1,\n",
       "       1, 1, 1, 1, 1, 1, 1, 1, 2, 2, 2, 2, 2, 2, 2, 2, 2, 2, 2, 2, 2, 2,\n",
       "       2, 2, 2, 2, 2, 2, 2, 2, 2, 2, 2, 2, 2, 2, 2, 2, 2, 2, 2, 2, 2, 2,\n",
       "       2, 2, 2, 2, 2, 2, 2, 2, 2, 2, 2, 2, 2, 2, 2, 2, 2, 2, 2, 2, 2, 2,\n",
       "       2, 2, 2, 2, 2, 2, 2, 2, 2, 2, 2, 2, 2, 2, 2, 2, 2, 2, 2, 2, 2, 2,\n",
       "       2, 2, 2, 2, 2, 2, 2, 2, 2, 2, 2, 2, 2, 2, 2, 2, 2, 2, 2, 2, 2, 2,\n",
       "       2, 2, 2, 2, 2, 2, 2, 2, 2, 2, 2, 2, 2, 2, 2, 2, 2, 2, 2, 2, 2, 2,\n",
       "       2, 2, 2, 2, 2, 2, 2, 2, 2, 2, 2, 2, 2, 2, 2, 2, 2, 2, 2, 2, 2, 2,\n",
       "       2, 2, 2, 2, 2, 2, 2, 2, 2, 2, 2, 2, 2, 2, 2, 2, 2, 2, 2, 2, 2, 2,\n",
       "       2, 2, 2, 2, 2, 2, 2, 2, 2, 2, 2, 2, 2, 2, 2, 2, 2, 2, 2, 2, 2, 2,\n",
       "       2, 2, 2, 2, 2, 2, 2, 2, 2, 2, 2, 2, 2, 2, 2, 2, 2, 2, 2, 2, 2, 2,\n",
       "       2, 2, 2, 2, 2, 2, 2, 2, 2, 2, 2, 2, 2, 2, 2, 2, 2, 2, 2, 2, 2, 2,\n",
       "       2, 2, 2, 2, 2, 2, 2, 2, 2, 2, 2, 2])"
      ]
     },
     "execution_count": 9,
     "metadata": {},
     "output_type": "execute_result"
    }
   ],
   "source": [
    "target"
   ]
  },
  {
   "cell_type": "code",
   "execution_count": 10,
   "metadata": {
    "colab": {
     "base_uri": "https://localhost:8080/"
    },
    "id": "KN7CyxIRaDZN",
    "outputId": "1254f702-29e2-4189-e79f-474455fe178b"
   },
   "outputs": [
    {
     "data": {
      "text/plain": [
       "(array([0, 1, 2]), array([246, 246, 246]))"
      ]
     },
     "execution_count": 10,
     "metadata": {},
     "output_type": "execute_result"
    }
   ],
   "source": [
    "#Let's see the unique return of images count of each category.\n",
    "#0, 1 and 2 are jeans, sarees and trousers\n",
    "\n",
    "np.unique(target,return_counts = True)"
   ]
  },
  {
   "cell_type": "code",
   "execution_count": 11,
   "metadata": {
    "colab": {
     "base_uri": "https://localhost:8080/",
     "height": 282
    },
    "id": "ebVyH6twaKMB",
    "outputId": "22543cbb-f0a2-4659-c2b9-58dd8d4af4f0"
   },
   "outputs": [
    {
     "data": {
      "text/plain": [
       "<BarContainer object of 3 artists>"
      ]
     },
     "execution_count": 11,
     "metadata": {},
     "output_type": "execute_result"
    },
    {
     "data": {
      "image/png": "[encoded data removed]",
      "text/plain": [
       "<Figure size 432x288 with 1 Axes>"
      ]
     },
     "metadata": {
      "needs_background": "light"
     },
     "output_type": "display_data"
    }
   ],
   "source": [
    "category, count = np.unique(target,return_counts = True)\n",
    "\n",
    "plt.bar(categories, count)"
   ]
  },
  {
   "cell_type": "markdown",
   "metadata": {
    "id": "3TKBN48GbS5j"
   },
   "source": [
    "Clearly, the plot shows the images distribution from each category."
   ]
  },
  {
   "cell_type": "markdown",
   "metadata": {},
   "source": [
    "## Model Building"
   ]
  },
  {
   "cell_type": "code",
   "execution_count": 12,
   "metadata": {
    "id": "3cx4SRePbMsI"
   },
   "outputs": [],
   "source": [
    "from sklearn.model_selection import train_test_split\n",
    "\n",
    "x_train, x_test, y_train, y_test = train_test_split(flat_data, target, test_size = 0.3, random_state = 109)"
   ]
  },
  {
   "cell_type": "markdown",
   "metadata": {
    "id": "i7E15AkH9lPQ"
   },
   "source": [
    "### SVC"
   ]
  },
  {
   "cell_type": "markdown",
   "metadata": {},
   "source": [
    "The hyperparameters which can be tuned in order to get the best possible score are being used below."
   ]
  },
  {
   "cell_type": "code",
   "execution_count": 35,
   "metadata": {
    "colab": {
     "base_uri": "https://localhost:8080/"
    },
    "id": "OKdHeFkRf_V-",
    "outputId": "4a23d895-220c-4043-b5e1-aad90356d5dd"
   },
   "outputs": [
    {
     "data": {
      "text/plain": [
       "GridSearchCV(cv=None, error_score=nan,\n",
       "             estimator=SVC(C=1.0, break_ties=False, cache_size=200,\n",
       "                           class_weight=None, coef0=0.0,\n",
       "                           decision_function_shape='ovr', degree=3,\n",
       "                           gamma='scale', kernel='rbf', max_iter=-1,\n",
       "                           probability=True, random_state=None, shrinking=True,\n",
       "                           tol=0.001, verbose=False),\n",
       "             iid='deprecated', n_jobs=None,\n",
       "             param_grid=[{'C': [1, 10, 100, 1000], 'kernel': ['linear']},\n",
       "                         {'C': [1, 10, 100, 1000], 'gamma': [0.001, 0.0001],\n",
       "                          'kernel': ['rbf']}],\n",
       "             pre_dispatch='2*n_jobs', refit=True, return_train_score=False,\n",
       "             scoring=None, verbose=0)"
      ]
     },
     "execution_count": 35,
     "metadata": {},
     "output_type": "execute_result"
    }
   ],
   "source": [
    "from sklearn.model_selection import GridSearchCV\n",
    "from sklearn import svm\n",
    "\n",
    "param_grid = [\n",
    "              {'C':[1,10,100,1000], 'kernel':['linear']},\n",
    "              {'C':[1,10,100,1000],'gamma':[0.001,0.0001] ,'kernel':['rbf']} #Kernel with an appropriate C value will be taken by the model to give the best score\n",
    "]\n",
    "\n",
    "svc = svm.SVC(probability = True) #This will show the other probabilty along with the main one as well.\n",
    "clf = GridSearchCV(svc, param_grid) #param_grid will let the default values \n",
    "clf.fit(x_train, y_train)"
   ]
  },
  {
   "cell_type": "code",
   "execution_count": 17,
   "metadata": {
    "id": "yXF4mJQ-iVUm"
   },
   "outputs": [],
   "source": [
    "from sklearn.metrics import accuracy_score, confusion_matrix,classification_report, f1_score"
   ]
  },
  {
   "cell_type": "code",
   "execution_count": 37,
   "metadata": {
    "colab": {
     "base_uri": "https://localhost:8080/"
    },
    "id": "M-aNSTQ90QYu",
    "outputId": "8ce46adc-c8cf-49ce-a351-4007782f285b"
   },
   "outputs": [
    {
     "data": {
      "text/plain": [
       "0.9234234234234234"
      ]
     },
     "execution_count": 37,
     "metadata": {},
     "output_type": "execute_result"
    }
   ],
   "source": [
    "y_pred = clf.predict(x_test)\n",
    "\n",
    "accuracy_score(y_pred, y_test)"
   ]
  },
  {
   "cell_type": "markdown",
   "metadata": {},
   "source": [
    "92.3% of the prediction is correct."
   ]
  },
  {
   "cell_type": "code",
   "execution_count": 38,
   "metadata": {
    "colab": {
     "base_uri": "https://localhost:8080/"
    },
    "id": "vxyuezzB0w3Y",
    "outputId": "e6c231ce-46d2-4dee-ee06-b4acc930bf2a"
   },
   "outputs": [
    {
     "data": {
      "text/plain": [
       "array([[66,  0, 16],\n",
       "       [ 0, 81,  1],\n",
       "       [ 0,  0, 58]])"
      ]
     },
     "execution_count": 38,
     "metadata": {},
     "output_type": "execute_result"
    }
   ],
   "source": [
    "confusion_matrix(y_pred, y_test)"
   ]
  },
  {
   "cell_type": "markdown",
   "metadata": {},
   "source": [
    "66, 81 and 58 are the correct prediction of the pictures by the model"
   ]
  },
  {
   "cell_type": "markdown",
   "metadata": {
    "id": "dubSbP1e1y23"
   },
   "source": [
    "### Multinomial Naive Bayes"
   ]
  },
  {
   "cell_type": "code",
   "execution_count": 13,
   "metadata": {
    "id": "g97RIkz_16AW"
   },
   "outputs": [],
   "source": [
    "from sklearn.naive_bayes import MultinomialNB\n",
    "\n",
    "MNB = MultinomialNB()\n",
    "MNB.fit(x_train, y_train)\n",
    "predictions = MNB.predict(x_test)"
   ]
  },
  {
   "cell_type": "code",
   "execution_count": 18,
   "metadata": {
    "colab": {
     "base_uri": "https://localhost:8080/"
    },
    "id": "Dv_WqekH2LGR",
    "outputId": "a10e358a-0097-447f-d6c0-249fed0abdd4"
   },
   "outputs": [
    {
     "name": "stdout",
     "output_type": "stream",
     "text": [
      "              precision    recall  f1-score   support\n",
      "\n",
      "           0       0.67      0.83      0.74        66\n",
      "           1       0.97      0.96      0.97        81\n",
      "           2       0.80      0.64      0.71        75\n",
      "\n",
      "    accuracy                           0.82       222\n",
      "   macro avg       0.82      0.81      0.81       222\n",
      "weighted avg       0.83      0.82      0.81       222\n",
      "\n",
      "[[55  2  9]\n",
      " [ 0 78  3]\n",
      " [27  0 48]]\n",
      "Accuracy :  81.53  %\n",
      "f1_score :  0.815\n"
     ]
    }
   ],
   "source": [
    "# Model evaluation\n",
    "\n",
    "print(classification_report(y_test, predictions))\n",
    "print(confusion_matrix(y_test, predictions))\n",
    "\n",
    "MNB_f1 = round(f1_score(y_test, predictions, average='weighted'), 3)\n",
    "MNB_accuracy = round((accuracy_score(y_test, predictions)*100),2)\n",
    "\n",
    "print(\"Accuracy : \" , MNB_accuracy , \" %\")\n",
    "print(\"f1_score : \" , MNB_f1)"
   ]
  },
  {
   "cell_type": "markdown",
   "metadata": {
    "id": "n0wRVIu-9Ogs"
   },
   "source": [
    "### XGBoost"
   ]
  },
  {
   "cell_type": "code",
   "execution_count": 19,
   "metadata": {
    "colab": {
     "base_uri": "https://localhost:8080/"
    },
    "id": "I-2Pihbn2okF",
    "outputId": "54a00368-5275-4525-bcc7-9c452b807472"
   },
   "outputs": [
    {
     "name": "stdout",
     "output_type": "stream",
     "text": [
      "[[56  0 10]\n",
      " [ 0 81  0]\n",
      " [ 6  0 69]]\n",
      "              precision    recall  f1-score   support\n",
      "\n",
      "           0       0.90      0.85      0.88        66\n",
      "           1       1.00      1.00      1.00        81\n",
      "           2       0.87      0.92      0.90        75\n",
      "\n",
      "    accuracy                           0.93       222\n",
      "   macro avg       0.93      0.92      0.92       222\n",
      "weighted avg       0.93      0.93      0.93       222\n",
      "\n",
      "\n",
      "\n",
      "Training accuracy is 1.0\n",
      "\n",
      "\n",
      "Test accuracy is 0.9279279279279279\n"
     ]
    }
   ],
   "source": [
    "# xgboost\n",
    "import warnings\n",
    "warnings.filterwarnings(\"ignore\")\n",
    "\n",
    "import xgboost\n",
    "xgb = xgboost.XGBClassifier()\n",
    "xgb.fit(x_train, y_train)\n",
    "y_pred_train = xgb.predict(x_train)\n",
    "\n",
    "y_pred_test = xgb.predict(x_test)\n",
    "\n",
    "print(confusion_matrix(y_test,y_pred_test))\n",
    "print(classification_report(y_test,y_pred_test))\n",
    "\n",
    "print('\\n')\n",
    "\n",
    "print('Training accuracy is {}'.format(accuracy_score(y_train, y_pred_train)))\n",
    "\n",
    "print('\\n')\n",
    "\n",
    "print('Test accuracy is {}'.format(accuracy_score(y_test,y_pred_test)))"
   ]
  },
  {
   "cell_type": "markdown",
   "metadata": {
    "id": "4CaPMvjA9Yvv"
   },
   "source": [
    "### Random Forest Classifier"
   ]
  },
  {
   "cell_type": "code",
   "execution_count": 26,
   "metadata": {
    "colab": {
     "base_uri": "https://localhost:8080/"
    },
    "id": "Pf5rLFsl6Ff3",
    "outputId": "116c4233-0cdc-42aa-c2cb-e60a89f0ec76"
   },
   "outputs": [
    {
     "data": {
      "text/plain": [
       "{'n_estimators': 500}"
      ]
     },
     "execution_count": 26,
     "metadata": {},
     "output_type": "execute_result"
    }
   ],
   "source": [
    "from sklearn.ensemble import RandomForestClassifier\n",
    "from sklearn.model_selection import GridSearchCV\n",
    "\n",
    "parameters={\"n_estimators\":[10,100,500]}\n",
    "\n",
    "rfc=RandomForestClassifier()\n",
    "\n",
    "clf = GridSearchCV(rfc, parameters, cv=10)\n",
    "clf.fit(x_train,y_train)\n",
    "clf.best_params_"
   ]
  },
  {
   "cell_type": "code",
   "execution_count": 27,
   "metadata": {
    "id": "hqFa17cq8qOm"
   },
   "outputs": [],
   "source": [
    "rfc = RandomForestClassifier(n_estimators=500)\n",
    "\n",
    "rfc.fit(x_train,y_train)\n",
    "rfc_predict=rfc.predict(x_test)"
   ]
  },
  {
   "cell_type": "code",
   "execution_count": 28,
   "metadata": {
    "colab": {
     "base_uri": "https://localhost:8080/"
    },
    "id": "y5P_lsxc7stk",
    "outputId": "65209b35-885e-4b09-e98d-175f237db851"
   },
   "outputs": [
    {
     "name": "stdout",
     "output_type": "stream",
     "text": [
      "              precision    recall  f1-score   support\n",
      "\n",
      "           0       0.89      0.88      0.89        66\n",
      "           1       1.00      1.00      1.00        81\n",
      "           2       0.89      0.91      0.90        75\n",
      "\n",
      "    accuracy                           0.93       222\n",
      "   macro avg       0.93      0.93      0.93       222\n",
      "weighted avg       0.93      0.93      0.93       222\n",
      "\n"
     ]
    }
   ],
   "source": [
    "print(classification_report(y_test,rfc_predict))"
   ]
  },
  {
   "cell_type": "code",
   "execution_count": 29,
   "metadata": {
    "colab": {
     "base_uri": "https://localhost:8080/"
    },
    "id": "1pCEprZA82zs",
    "outputId": "d5d81069-60ac-42f3-ff86-2545e94e4c42"
   },
   "outputs": [
    {
     "name": "stdout",
     "output_type": "stream",
     "text": [
      "Model Acc: 0.9324324324324325\n"
     ]
    }
   ],
   "source": [
    "print(\"Model Acc:\",rfc.score(x_test,y_test))"
   ]
  },
  {
   "cell_type": "markdown",
   "metadata": {},
   "source": [
    "Among all the models, RFC seems to be predicting well."
   ]
  },
  {
   "cell_type": "markdown",
   "metadata": {
    "id": "lFbUlKCt9yS6"
   },
   "source": [
    "## Final model Testing"
   ]
  },
  {
   "cell_type": "markdown",
   "metadata": {},
   "source": [
    "#### Let's save RFC model first, it yielded better score"
   ]
  },
  {
   "cell_type": "code",
   "execution_count": 20,
   "metadata": {
    "id": "-ZuezPLb3hCu"
   },
   "outputs": [],
   "source": [
    "#saving the model using pickle\n",
    "\n",
    "import pickle\n",
    "pickle.dump(rfc, open('img_model.p', 'wb'))"
   ]
  },
  {
   "cell_type": "code",
   "execution_count": 23,
   "metadata": {
    "id": "NWyg-6Wk6k-b"
   },
   "outputs": [],
   "source": [
    "model = pickle.load(open('img_model.p', 'rb'))"
   ]
  },
  {
   "cell_type": "code",
   "execution_count": 24,
   "metadata": {
    "colab": {
     "base_uri": "https://localhost:8080/",
     "height": 342
    },
    "id": "Hl2BW-fO45u8",
    "outputId": "6e2868a9-263b-41c6-dac6-49ec25fa8777"
   },
   "outputs": [
    {
     "name": "stdout",
     "output_type": "stream",
     "text": [
      "enter the picture url herehttps://m.media-amazon.com/images/I/91d17vEsP9L._UY445_.jpg\n",
      "(445, 318, 3)\n",
      "Predicted Output: sarees\n"
     ]
    },
    {
     "data": {
      "image/png": "[encoded data removed]",
      "text/plain": [
       "<Figure size 432x288 with 1 Axes>"
      ]
     },
     "metadata": {
      "needs_background": "light"
     },
     "output_type": "display_data"
    }
   ],
   "source": [
    "#Testing the model with a brand new image\n",
    "\n",
    "flat_data = []\n",
    "\n",
    "url = input('enter the picture url here')\n",
    "\n",
    "img = imread(url)\n",
    "img_resized = resize(img, (150,150,3))\n",
    "flat_data.append(img_resized.flatten())\n",
    "flat_data = np.array(flat_data)\n",
    "print(img.shape)\n",
    "plt.imshow(img_resized)\n",
    "\n",
    "y_out = model.predict(flat_data)\n",
    "y_out = categories[y_out[0]]\n",
    "\n",
    "print(f'Predicted Output: {y_out}')"
   ]
  },
  {
   "cell_type": "markdown",
   "metadata": {
    "id": "PkIIYase7O52"
   },
   "source": [
    "The model predicted the picture correctly. Thus, the present model can be used to train with more images further if needed to predict the right images as output if at all deployed in the market usage."
   ]
  }
 ],
 "metadata": {
  "colab": {
   "collapsed_sections": [],
   "name": "Image Classification.ipynb",
   "provenance": []
  },
  "kernelspec": {
   "display_name": "Python 3",
   "language": "python",
   "name": "python3"
  },
  "language_info": {
   "codemirror_mode": {
    "name": "ipython",
    "version": 3
   },
   "file_extension": ".py",
   "mimetype": "text/x-python",
   "name": "python",
   "nbconvert_exporter": "python",
   "pygments_lexer": "ipython3",
   "version": "3.8.3"
  }
 },
 "nbformat": 4,
 "nbformat_minor": 1
}
